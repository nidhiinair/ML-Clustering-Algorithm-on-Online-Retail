{
  "nbformat": 4,
  "nbformat_minor": 0,
  "metadata": {
    "colab": {
      "name": "Online_retail.ipynb",
      "provenance": [],
      "collapsed_sections": []
    },
    "kernelspec": {
      "display_name": "Python 3",
      "language": "python",
      "name": "python3"
    },
    "language_info": {
      "codemirror_mode": {
        "name": "ipython",
        "version": 3
      },
      "file_extension": ".py",
      "mimetype": "text/x-python",
      "name": "python",
      "nbconvert_exporter": "python",
      "pygments_lexer": "ipython3",
      "version": "3.8.7"
    }
  },
  "cells": [
    {
      "cell_type": "code",
      "metadata": {
        "id": "BCzTuEFhLc2r"
      },
      "source": [
        "import numpy as np\n",
        "import pandas as pd\n",
        "import matplotlib.pyplot as plt\n",
        "import math\n",
        "import matplotlib.mlab as mlab\n",
        "import datetime\n",
        "import scipy\n",
        "import scipy.stats as stats\n",
        "import seaborn as sns"
      ],
      "execution_count": null,
      "outputs": []
    },
    {
      "cell_type": "code",
      "metadata": {
        "id": "H1Dm85YKMEqw"
      },
      "source": [
        "data=pd.read_excel('/content/Online Retail.xlsx')"
      ],
      "execution_count": null,
      "outputs": []
    },
    {
      "cell_type": "code",
      "metadata": {
        "colab": {
          "base_uri": "https://localhost:8080/",
          "height": 197
        },
        "id": "8ugX7QJONcml",
        "outputId": "6c4dc304-5d95-419a-9c7a-d8be4fbf308f"
      },
      "source": [
        "print(data.head())\n",
        "print(data.shape)\n"
      ],
      "execution_count": null,
      "outputs": [
        {
          "output_type": "execute_result",
          "data": {
            "text/html": [
              "<div>\n",
              "<style scoped>\n",
              "    .dataframe tbody tr th:only-of-type {\n",
              "        vertical-align: middle;\n",
              "    }\n",
              "\n",
              "    .dataframe tbody tr th {\n",
              "        vertical-align: top;\n",
              "    }\n",
              "\n",
              "    .dataframe thead th {\n",
              "        text-align: right;\n",
              "    }\n",
              "</style>\n",
              "<table border=\"1\" class=\"dataframe\">\n",
              "  <thead>\n",
              "    <tr style=\"text-align: right;\">\n",
              "      <th></th>\n",
              "      <th>InvoiceNo</th>\n",
              "      <th>StockCode</th>\n",
              "      <th>Description</th>\n",
              "      <th>Quantity</th>\n",
              "      <th>InvoiceDate</th>\n",
              "      <th>UnitPrice</th>\n",
              "      <th>CustomerID</th>\n",
              "      <th>Country</th>\n",
              "    </tr>\n",
              "  </thead>\n",
              "  <tbody>\n",
              "    <tr>\n",
              "      <th>0</th>\n",
              "      <td>536365</td>\n",
              "      <td>85123A</td>\n",
              "      <td>WHITE HANGING HEART T-LIGHT HOLDER</td>\n",
              "      <td>6</td>\n",
              "      <td>2010-12-01 08:26:00</td>\n",
              "      <td>2.55</td>\n",
              "      <td>17850.0</td>\n",
              "      <td>United Kingdom</td>\n",
              "    </tr>\n",
              "    <tr>\n",
              "      <th>1</th>\n",
              "      <td>536365</td>\n",
              "      <td>71053</td>\n",
              "      <td>WHITE METAL LANTERN</td>\n",
              "      <td>6</td>\n",
              "      <td>2010-12-01 08:26:00</td>\n",
              "      <td>3.39</td>\n",
              "      <td>17850.0</td>\n",
              "      <td>United Kingdom</td>\n",
              "    </tr>\n",
              "    <tr>\n",
              "      <th>2</th>\n",
              "      <td>536365</td>\n",
              "      <td>84406B</td>\n",
              "      <td>CREAM CUPID HEARTS COAT HANGER</td>\n",
              "      <td>8</td>\n",
              "      <td>2010-12-01 08:26:00</td>\n",
              "      <td>2.75</td>\n",
              "      <td>17850.0</td>\n",
              "      <td>United Kingdom</td>\n",
              "    </tr>\n",
              "    <tr>\n",
              "      <th>3</th>\n",
              "      <td>536365</td>\n",
              "      <td>84029G</td>\n",
              "      <td>KNITTED UNION FLAG HOT WATER BOTTLE</td>\n",
              "      <td>6</td>\n",
              "      <td>2010-12-01 08:26:00</td>\n",
              "      <td>3.39</td>\n",
              "      <td>17850.0</td>\n",
              "      <td>United Kingdom</td>\n",
              "    </tr>\n",
              "    <tr>\n",
              "      <th>4</th>\n",
              "      <td>536365</td>\n",
              "      <td>84029E</td>\n",
              "      <td>RED WOOLLY HOTTIE WHITE HEART.</td>\n",
              "      <td>6</td>\n",
              "      <td>2010-12-01 08:26:00</td>\n",
              "      <td>3.39</td>\n",
              "      <td>17850.0</td>\n",
              "      <td>United Kingdom</td>\n",
              "    </tr>\n",
              "  </tbody>\n",
              "</table>\n",
              "</div>"
            ],
            "text/plain": [
              "  InvoiceNo StockCode  ... CustomerID         Country\n",
              "0    536365    85123A  ...    17850.0  United Kingdom\n",
              "1    536365     71053  ...    17850.0  United Kingdom\n",
              "2    536365    84406B  ...    17850.0  United Kingdom\n",
              "3    536365    84029G  ...    17850.0  United Kingdom\n",
              "4    536365    84029E  ...    17850.0  United Kingdom\n",
              "\n",
              "[5 rows x 8 columns]"
            ]
          },
          "metadata": {
            "tags": []
          },
          "execution_count": 3
        }
      ]
    },
    {
      "cell_type": "markdown",
      "metadata": {
        "id": "MbCmzwsWOZjx"
      },
      "source": [
        "Preprocessing"
      ]
    },
    {
      "cell_type": "code",
      "metadata": {
        "id": "6poRMaN6N_G2"
      },
      "source": [
        "# removing null values\n",
        "print(data.isnull().value_counts())\n",
        "data=data[~(data.CustomerID.isnull())]\n",
        "print(data.shape)\n",
        "print(data.isnull().value_counts())"
      ],
      "execution_count": null,
      "outputs": []
    },
    {
      "cell_type": "code",
      "metadata": {
        "id": "ix4zLupHOlw9"
      },
      "source": [
        "# creating additional field using existing fields\n",
        "data['Amount']=data['Quantity']*data['UnitPrice']"
      ],
      "execution_count": null,
      "outputs": []
    },
    {
      "cell_type": "code",
      "metadata": {
        "colab": {
          "base_uri": "https://localhost:8080/",
          "height": 1000
        },
        "id": "C5I48pd5QvCl",
        "outputId": "6de2001f-8c9c-437c-f249-7b7e0ad06919"
      },
      "source": [
        "data.groupby('Country').CustomerID.count().reset_index()"
      ],
      "execution_count": null,
      "outputs": [
        {
          "output_type": "execute_result",
          "data": {
            "text/html": [
              "<div>\n",
              "<style scoped>\n",
              "    .dataframe tbody tr th:only-of-type {\n",
              "        vertical-align: middle;\n",
              "    }\n",
              "\n",
              "    .dataframe tbody tr th {\n",
              "        vertical-align: top;\n",
              "    }\n",
              "\n",
              "    .dataframe thead th {\n",
              "        text-align: right;\n",
              "    }\n",
              "</style>\n",
              "<table border=\"1\" class=\"dataframe\">\n",
              "  <thead>\n",
              "    <tr style=\"text-align: right;\">\n",
              "      <th></th>\n",
              "      <th>Country</th>\n",
              "      <th>CustomerID</th>\n",
              "    </tr>\n",
              "  </thead>\n",
              "  <tbody>\n",
              "    <tr>\n",
              "      <th>0</th>\n",
              "      <td>Australia</td>\n",
              "      <td>1259</td>\n",
              "    </tr>\n",
              "    <tr>\n",
              "      <th>1</th>\n",
              "      <td>Austria</td>\n",
              "      <td>401</td>\n",
              "    </tr>\n",
              "    <tr>\n",
              "      <th>2</th>\n",
              "      <td>Bahrain</td>\n",
              "      <td>17</td>\n",
              "    </tr>\n",
              "    <tr>\n",
              "      <th>3</th>\n",
              "      <td>Belgium</td>\n",
              "      <td>2069</td>\n",
              "    </tr>\n",
              "    <tr>\n",
              "      <th>4</th>\n",
              "      <td>Brazil</td>\n",
              "      <td>32</td>\n",
              "    </tr>\n",
              "    <tr>\n",
              "      <th>5</th>\n",
              "      <td>Canada</td>\n",
              "      <td>151</td>\n",
              "    </tr>\n",
              "    <tr>\n",
              "      <th>6</th>\n",
              "      <td>Channel Islands</td>\n",
              "      <td>758</td>\n",
              "    </tr>\n",
              "    <tr>\n",
              "      <th>7</th>\n",
              "      <td>Cyprus</td>\n",
              "      <td>622</td>\n",
              "    </tr>\n",
              "    <tr>\n",
              "      <th>8</th>\n",
              "      <td>Czech Republic</td>\n",
              "      <td>30</td>\n",
              "    </tr>\n",
              "    <tr>\n",
              "      <th>9</th>\n",
              "      <td>Denmark</td>\n",
              "      <td>389</td>\n",
              "    </tr>\n",
              "    <tr>\n",
              "      <th>10</th>\n",
              "      <td>EIRE</td>\n",
              "      <td>7485</td>\n",
              "    </tr>\n",
              "    <tr>\n",
              "      <th>11</th>\n",
              "      <td>European Community</td>\n",
              "      <td>61</td>\n",
              "    </tr>\n",
              "    <tr>\n",
              "      <th>12</th>\n",
              "      <td>Finland</td>\n",
              "      <td>695</td>\n",
              "    </tr>\n",
              "    <tr>\n",
              "      <th>13</th>\n",
              "      <td>France</td>\n",
              "      <td>8491</td>\n",
              "    </tr>\n",
              "    <tr>\n",
              "      <th>14</th>\n",
              "      <td>Germany</td>\n",
              "      <td>9495</td>\n",
              "    </tr>\n",
              "    <tr>\n",
              "      <th>15</th>\n",
              "      <td>Greece</td>\n",
              "      <td>146</td>\n",
              "    </tr>\n",
              "    <tr>\n",
              "      <th>16</th>\n",
              "      <td>Iceland</td>\n",
              "      <td>182</td>\n",
              "    </tr>\n",
              "    <tr>\n",
              "      <th>17</th>\n",
              "      <td>Israel</td>\n",
              "      <td>250</td>\n",
              "    </tr>\n",
              "    <tr>\n",
              "      <th>18</th>\n",
              "      <td>Italy</td>\n",
              "      <td>803</td>\n",
              "    </tr>\n",
              "    <tr>\n",
              "      <th>19</th>\n",
              "      <td>Japan</td>\n",
              "      <td>358</td>\n",
              "    </tr>\n",
              "    <tr>\n",
              "      <th>20</th>\n",
              "      <td>Lebanon</td>\n",
              "      <td>45</td>\n",
              "    </tr>\n",
              "    <tr>\n",
              "      <th>21</th>\n",
              "      <td>Lithuania</td>\n",
              "      <td>35</td>\n",
              "    </tr>\n",
              "    <tr>\n",
              "      <th>22</th>\n",
              "      <td>Malta</td>\n",
              "      <td>127</td>\n",
              "    </tr>\n",
              "    <tr>\n",
              "      <th>23</th>\n",
              "      <td>Netherlands</td>\n",
              "      <td>2371</td>\n",
              "    </tr>\n",
              "    <tr>\n",
              "      <th>24</th>\n",
              "      <td>Norway</td>\n",
              "      <td>1086</td>\n",
              "    </tr>\n",
              "    <tr>\n",
              "      <th>25</th>\n",
              "      <td>Poland</td>\n",
              "      <td>341</td>\n",
              "    </tr>\n",
              "    <tr>\n",
              "      <th>26</th>\n",
              "      <td>Portugal</td>\n",
              "      <td>1480</td>\n",
              "    </tr>\n",
              "    <tr>\n",
              "      <th>27</th>\n",
              "      <td>RSA</td>\n",
              "      <td>58</td>\n",
              "    </tr>\n",
              "    <tr>\n",
              "      <th>28</th>\n",
              "      <td>Saudi Arabia</td>\n",
              "      <td>10</td>\n",
              "    </tr>\n",
              "    <tr>\n",
              "      <th>29</th>\n",
              "      <td>Singapore</td>\n",
              "      <td>229</td>\n",
              "    </tr>\n",
              "    <tr>\n",
              "      <th>30</th>\n",
              "      <td>Spain</td>\n",
              "      <td>2533</td>\n",
              "    </tr>\n",
              "    <tr>\n",
              "      <th>31</th>\n",
              "      <td>Sweden</td>\n",
              "      <td>462</td>\n",
              "    </tr>\n",
              "    <tr>\n",
              "      <th>32</th>\n",
              "      <td>Switzerland</td>\n",
              "      <td>1877</td>\n",
              "    </tr>\n",
              "    <tr>\n",
              "      <th>33</th>\n",
              "      <td>USA</td>\n",
              "      <td>291</td>\n",
              "    </tr>\n",
              "    <tr>\n",
              "      <th>34</th>\n",
              "      <td>United Arab Emirates</td>\n",
              "      <td>68</td>\n",
              "    </tr>\n",
              "    <tr>\n",
              "      <th>35</th>\n",
              "      <td>United Kingdom</td>\n",
              "      <td>361878</td>\n",
              "    </tr>\n",
              "    <tr>\n",
              "      <th>36</th>\n",
              "      <td>Unspecified</td>\n",
              "      <td>244</td>\n",
              "    </tr>\n",
              "  </tbody>\n",
              "</table>\n",
              "</div>"
            ],
            "text/plain": [
              "                 Country  CustomerID\n",
              "0              Australia        1259\n",
              "1                Austria         401\n",
              "2                Bahrain          17\n",
              "3                Belgium        2069\n",
              "4                 Brazil          32\n",
              "5                 Canada         151\n",
              "6        Channel Islands         758\n",
              "7                 Cyprus         622\n",
              "8         Czech Republic          30\n",
              "9                Denmark         389\n",
              "10                  EIRE        7485\n",
              "11    European Community          61\n",
              "12               Finland         695\n",
              "13                France        8491\n",
              "14               Germany        9495\n",
              "15                Greece         146\n",
              "16               Iceland         182\n",
              "17                Israel         250\n",
              "18                 Italy         803\n",
              "19                 Japan         358\n",
              "20               Lebanon          45\n",
              "21             Lithuania          35\n",
              "22                 Malta         127\n",
              "23           Netherlands        2371\n",
              "24                Norway        1086\n",
              "25                Poland         341\n",
              "26              Portugal        1480\n",
              "27                   RSA          58\n",
              "28          Saudi Arabia          10\n",
              "29             Singapore         229\n",
              "30                 Spain        2533\n",
              "31                Sweden         462\n",
              "32           Switzerland        1877\n",
              "33                   USA         291\n",
              "34  United Arab Emirates          68\n",
              "35        United Kingdom      361878\n",
              "36           Unspecified         244"
            ]
          },
          "metadata": {
            "tags": []
          },
          "execution_count": 11
        }
      ]
    },
    {
      "cell_type": "code",
      "metadata": {
        "colab": {
          "base_uri": "https://localhost:8080/",
          "height": 997
        },
        "id": "ABVSszZVTIcC",
        "outputId": "8fe41b83-4b9f-4bc0-aae8-4b40f141cda3"
      },
      "source": [
        "plt.bar(data.groupby('Country').CustomerID.count().reset_index().Country,data.groupby('Country').CustomerID.count().reset_index().CustomerID)\n",
        "plt.xticks(rotation=90)"
      ],
      "execution_count": null,
      "outputs": [
        {
          "output_type": "execute_result",
          "data": {
            "text/plain": [
              "([0,\n",
              "  1,\n",
              "  2,\n",
              "  3,\n",
              "  4,\n",
              "  5,\n",
              "  6,\n",
              "  7,\n",
              "  8,\n",
              "  9,\n",
              "  10,\n",
              "  11,\n",
              "  12,\n",
              "  13,\n",
              "  14,\n",
              "  15,\n",
              "  16,\n",
              "  17,\n",
              "  18,\n",
              "  19,\n",
              "  20,\n",
              "  21,\n",
              "  22,\n",
              "  23,\n",
              "  24,\n",
              "  25,\n",
              "  26,\n",
              "  27,\n",
              "  28,\n",
              "  29,\n",
              "  30,\n",
              "  31,\n",
              "  32,\n",
              "  33,\n",
              "  34,\n",
              "  35,\n",
              "  36],\n",
              " <a list of 37 Text major ticklabel objects>)"
            ]
          },
          "metadata": {
            "tags": []
          },
          "execution_count": 12
        },
        {
          "output_type": "display_data",
          "data": {
            "image/png": "[encoded data removed]",
            "text/plain": [
              "<Figure size 432x288 with 1 Axes>"
            ]
          },
          "metadata": {
            "tags": [],
            "needs_background": "light"
          }
        }
      ]
    },
    {
      "cell_type": "code",
      "metadata": {
        "id": "Lb49l5pqRe_L"
      },
      "source": [
        "# keeping only UK data as all other data are very less (outliers)\n",
        "data2=data[data.Country=='United Kingdom']\n",
        "data2.shape"
      ],
      "execution_count": null,
      "outputs": []
    },
    {
      "cell_type": "code",
      "metadata": {
        "colab": {
          "base_uri": "https://localhost:8080/"
        },
        "id": "gFz5Ck2NUA8U",
        "outputId": "ef7065d2-ec00-408c-a6bd-284785504817"
      },
      "source": [
        "# checking for negative prices and removing it\n",
        "data2[data2.Amount<=0].value_counts()\n",
        "data2=data2[data2.Amount>0]"
      ],
      "execution_count": null,
      "outputs": [
        {
          "output_type": "execute_result",
          "data": {
            "text/plain": [
              "InvoiceNo  StockCode  Description                         Quantity  InvoiceDate          UnitPrice  CustomerID  Country         Amount \n",
              "C543611    82483      WOOD 2 DRAWER CABINET WHITE FINISH  -1        2011-02-10 14:38:00  4.95       17850.0     United Kingdom  -4.95      4\n",
              "C538341    22725      ALARM CLOCK BAKELIKE CHOCOLATE      -1        2010-12-10 14:03:00  3.75       15514.0     United Kingdom  -3.75      3\n",
              "           22976      CIRCUS PARADE CHILDRENS EGG CUP     -12       2010-12-10 14:03:00  1.25       15514.0     United Kingdom  -15.00     3\n",
              "           22730      ALARM CLOCK BAKELIKE IVORY          -1        2010-12-10 14:03:00  3.75       15514.0     United Kingdom  -3.75      3\n",
              "C555723    22171      3 HOOK PHOTO SHELF ANTIQUE WHITE    -2        2011-06-06 16:21:00  8.50       15737.0     United Kingdom  -17.00     2\n",
              "                                                                                                                                          ..\n",
              "C566613    D          Discount                            -1        2011-09-13 17:17:00  15.00      16029.0     United Kingdom  -15.00     1\n",
              "C566614    D          Discount                            -1        2011-09-13 17:28:00  102.24     16029.0     United Kingdom  -102.24    1\n",
              "C566626    22461      SAVOY ART DECO CLOCK                -2        2011-09-14 10:07:00  3.95       15380.0     United Kingdom  -7.90      1\n",
              "C566671    20726      LUNCH BAG WOODLAND                  -1        2011-09-14 11:39:00  1.65       17841.0     United Kingdom  -1.65      1\n",
              "539263     22580      ADVENT CALENDAR GINGHAM SACK         4        2010-12-16 14:36:00  0.00       16560.0     United Kingdom   0.00      1\n",
              "Length: 7525, dtype: int64"
            ]
          },
          "metadata": {
            "tags": []
          },
          "execution_count": 15
        }
      ]
    },
    {
      "cell_type": "code",
      "metadata": {
        "colab": {
          "base_uri": "https://localhost:8080/"
        },
        "id": "k0c6GQJJUZjH",
        "outputId": "604cff0b-7fec-42de-c9fb-2d0b18af53c6"
      },
      "source": [
        "# analyzing data\n",
        "data2.info()\n",
        "data2.InvoiceDate.min()\n",
        "data2.InvoiceDate.max()"
      ],
      "execution_count": null,
      "outputs": [
        {
          "output_type": "stream",
          "text": [
            "<class 'pandas.core.frame.DataFrame'>\n",
            "Int64Index: 354321 entries, 0 to 541893\n",
            "Data columns (total 9 columns):\n",
            " #   Column       Non-Null Count   Dtype         \n",
            "---  ------       --------------   -----         \n",
            " 0   InvoiceNo    354321 non-null  object        \n",
            " 1   StockCode    354321 non-null  object        \n",
            " 2   Description  354321 non-null  object        \n",
            " 3   Quantity     354321 non-null  int64         \n",
            " 4   InvoiceDate  354321 non-null  datetime64[ns]\n",
            " 5   UnitPrice    354321 non-null  float64       \n",
            " 6   CustomerID   354321 non-null  float64       \n",
            " 7   Country      354321 non-null  object        \n",
            " 8   Amount       354321 non-null  float64       \n",
            "dtypes: datetime64[ns](1), float64(3), int64(1), object(4)\n",
            "memory usage: 27.0+ MB\n"
          ],
          "name": "stdout"
        }
      ]
    },
    {
      "cell_type": "code",
      "metadata": {
        "id": "V1EMPlemU2Sy"
      },
      "source": [
        "# calculating recency\n",
        "reference_date=data2.InvoiceDate.max()+datetime.timedelta(days=1)\n",
        "(reference_date-data2.InvoiceDate).astype('timedelta64[D]')"
      ],
      "execution_count": null,
      "outputs": []
    },
    {
      "cell_type": "code",
      "metadata": {
        "id": "9ThGEKUfVMnL"
      },
      "source": [
        "data2['recency']=(reference_date-data2.InvoiceDate).astype('timedelta64[D]')\n",
        "print(data2)"
      ],
      "execution_count": null,
      "outputs": []
    },
    {
      "cell_type": "code",
      "metadata": {
        "id": "FdsHWjaTax67"
      },
      "source": [
        "recency_=data2.groupby('CustomerID')['recency'].min().reset_index()\n",
        "recency_"
      ],
      "execution_count": null,
      "outputs": []
    },
    {
      "cell_type": "code",
      "metadata": {
        "colab": {
          "base_uri": "https://localhost:8080/",
          "height": 437
        },
        "id": "prntZAMpVujn",
        "outputId": "1479f69d-89b9-4047-f76f-67d9d2c6b96a"
      },
      "source": [
        "data2.groupby('CustomerID').sum()"
      ],
      "execution_count": null,
      "outputs": [
        {
          "output_type": "execute_result",
          "data": {
            "text/html": [
              "<div>\n",
              "<style scoped>\n",
              "    .dataframe tbody tr th:only-of-type {\n",
              "        vertical-align: middle;\n",
              "    }\n",
              "\n",
              "    .dataframe tbody tr th {\n",
              "        vertical-align: top;\n",
              "    }\n",
              "\n",
              "    .dataframe thead th {\n",
              "        text-align: right;\n",
              "    }\n",
              "</style>\n",
              "<table border=\"1\" class=\"dataframe\">\n",
              "  <thead>\n",
              "    <tr style=\"text-align: right;\">\n",
              "      <th></th>\n",
              "      <th>Quantity</th>\n",
              "      <th>UnitPrice</th>\n",
              "      <th>Amount</th>\n",
              "    </tr>\n",
              "    <tr>\n",
              "      <th>CustomerID</th>\n",
              "      <th></th>\n",
              "      <th></th>\n",
              "      <th></th>\n",
              "    </tr>\n",
              "  </thead>\n",
              "  <tbody>\n",
              "    <tr>\n",
              "      <th>12346.0</th>\n",
              "      <td>74215</td>\n",
              "      <td>1.04</td>\n",
              "      <td>77183.60</td>\n",
              "    </tr>\n",
              "    <tr>\n",
              "      <th>12747.0</th>\n",
              "      <td>1275</td>\n",
              "      <td>449.89</td>\n",
              "      <td>4196.01</td>\n",
              "    </tr>\n",
              "    <tr>\n",
              "      <th>12748.0</th>\n",
              "      <td>25747</td>\n",
              "      <td>12205.60</td>\n",
              "      <td>33719.73</td>\n",
              "    </tr>\n",
              "    <tr>\n",
              "      <th>12749.0</th>\n",
              "      <td>1471</td>\n",
              "      <td>994.99</td>\n",
              "      <td>4090.88</td>\n",
              "    </tr>\n",
              "    <tr>\n",
              "      <th>12820.0</th>\n",
              "      <td>722</td>\n",
              "      <td>112.38</td>\n",
              "      <td>942.34</td>\n",
              "    </tr>\n",
              "    <tr>\n",
              "      <th>...</th>\n",
              "      <td>...</td>\n",
              "      <td>...</td>\n",
              "      <td>...</td>\n",
              "    </tr>\n",
              "    <tr>\n",
              "      <th>18280.0</th>\n",
              "      <td>45</td>\n",
              "      <td>47.65</td>\n",
              "      <td>180.60</td>\n",
              "    </tr>\n",
              "    <tr>\n",
              "      <th>18281.0</th>\n",
              "      <td>54</td>\n",
              "      <td>39.36</td>\n",
              "      <td>80.82</td>\n",
              "    </tr>\n",
              "    <tr>\n",
              "      <th>18282.0</th>\n",
              "      <td>103</td>\n",
              "      <td>62.39</td>\n",
              "      <td>178.05</td>\n",
              "    </tr>\n",
              "    <tr>\n",
              "      <th>18283.0</th>\n",
              "      <td>1397</td>\n",
              "      <td>1220.93</td>\n",
              "      <td>2094.88</td>\n",
              "    </tr>\n",
              "    <tr>\n",
              "      <th>18287.0</th>\n",
              "      <td>1586</td>\n",
              "      <td>104.55</td>\n",
              "      <td>1837.28</td>\n",
              "    </tr>\n",
              "  </tbody>\n",
              "</table>\n",
              "<p>3920 rows × 3 columns</p>\n",
              "</div>"
            ],
            "text/plain": [
              "            Quantity  UnitPrice    Amount\n",
              "CustomerID                               \n",
              "12346.0        74215       1.04  77183.60\n",
              "12747.0         1275     449.89   4196.01\n",
              "12748.0        25747   12205.60  33719.73\n",
              "12749.0         1471     994.99   4090.88\n",
              "12820.0          722     112.38    942.34\n",
              "...              ...        ...       ...\n",
              "18280.0           45      47.65    180.60\n",
              "18281.0           54      39.36     80.82\n",
              "18282.0          103      62.39    178.05\n",
              "18283.0         1397    1220.93   2094.88\n",
              "18287.0         1586     104.55   1837.28\n",
              "\n",
              "[3920 rows x 3 columns]"
            ]
          },
          "metadata": {
            "tags": []
          },
          "execution_count": 28
        }
      ]
    },
    {
      "cell_type": "code",
      "metadata": {
        "id": "ONbsD0cHXW_i"
      },
      "source": [
        "monetary=data2[['CustomerID','Amount']].groupby('CustomerID').sum().reset_index()\n",
        "monetary"
      ],
      "execution_count": null,
      "outputs": []
    },
    {
      "cell_type": "code",
      "metadata": {
        "colab": {
          "base_uri": "https://localhost:8080/",
          "height": 407
        },
        "id": "ZWnJbjVSZJPp",
        "outputId": "9a1a322d-7864-4362-a1dc-e1eb20d1fbf4"
      },
      "source": [
        "recency_c=data2[['CustomerID','recency']]\n",
        "recency_c"
      ],
      "execution_count": null,
      "outputs": [
        {
          "output_type": "execute_result",
          "data": {
            "text/html": [
              "<div>\n",
              "<style scoped>\n",
              "    .dataframe tbody tr th:only-of-type {\n",
              "        vertical-align: middle;\n",
              "    }\n",
              "\n",
              "    .dataframe tbody tr th {\n",
              "        vertical-align: top;\n",
              "    }\n",
              "\n",
              "    .dataframe thead th {\n",
              "        text-align: right;\n",
              "    }\n",
              "</style>\n",
              "<table border=\"1\" class=\"dataframe\">\n",
              "  <thead>\n",
              "    <tr style=\"text-align: right;\">\n",
              "      <th></th>\n",
              "      <th>CustomerID</th>\n",
              "      <th>recency</th>\n",
              "    </tr>\n",
              "  </thead>\n",
              "  <tbody>\n",
              "    <tr>\n",
              "      <th>0</th>\n",
              "      <td>17850.0</td>\n",
              "      <td>374.0</td>\n",
              "    </tr>\n",
              "    <tr>\n",
              "      <th>1</th>\n",
              "      <td>17850.0</td>\n",
              "      <td>374.0</td>\n",
              "    </tr>\n",
              "    <tr>\n",
              "      <th>2</th>\n",
              "      <td>17850.0</td>\n",
              "      <td>374.0</td>\n",
              "    </tr>\n",
              "    <tr>\n",
              "      <th>3</th>\n",
              "      <td>17850.0</td>\n",
              "      <td>374.0</td>\n",
              "    </tr>\n",
              "    <tr>\n",
              "      <th>4</th>\n",
              "      <td>17850.0</td>\n",
              "      <td>374.0</td>\n",
              "    </tr>\n",
              "    <tr>\n",
              "      <th>...</th>\n",
              "      <td>...</td>\n",
              "      <td>...</td>\n",
              "    </tr>\n",
              "    <tr>\n",
              "      <th>541889</th>\n",
              "      <td>15804.0</td>\n",
              "      <td>1.0</td>\n",
              "    </tr>\n",
              "    <tr>\n",
              "      <th>541890</th>\n",
              "      <td>13113.0</td>\n",
              "      <td>1.0</td>\n",
              "    </tr>\n",
              "    <tr>\n",
              "      <th>541891</th>\n",
              "      <td>13113.0</td>\n",
              "      <td>1.0</td>\n",
              "    </tr>\n",
              "    <tr>\n",
              "      <th>541892</th>\n",
              "      <td>13113.0</td>\n",
              "      <td>1.0</td>\n",
              "    </tr>\n",
              "    <tr>\n",
              "      <th>541893</th>\n",
              "      <td>13113.0</td>\n",
              "      <td>1.0</td>\n",
              "    </tr>\n",
              "  </tbody>\n",
              "</table>\n",
              "<p>354321 rows × 2 columns</p>\n",
              "</div>"
            ],
            "text/plain": [
              "        CustomerID  recency\n",
              "0          17850.0    374.0\n",
              "1          17850.0    374.0\n",
              "2          17850.0    374.0\n",
              "3          17850.0    374.0\n",
              "4          17850.0    374.0\n",
              "...            ...      ...\n",
              "541889     15804.0      1.0\n",
              "541890     13113.0      1.0\n",
              "541891     13113.0      1.0\n",
              "541892     13113.0      1.0\n",
              "541893     13113.0      1.0\n",
              "\n",
              "[354321 rows x 2 columns]"
            ]
          },
          "metadata": {
            "tags": []
          },
          "execution_count": 35
        }
      ]
    },
    {
      "cell_type": "code",
      "metadata": {
        "id": "tCwHx_WYXFJh"
      },
      "source": [
        "temp=monetary.merge(recency_,how='outer')\n",
        "temp"
      ],
      "execution_count": null,
      "outputs": []
    },
    {
      "cell_type": "code",
      "metadata": {
        "id": "s5OvcF3BXu8U"
      },
      "source": [
        "freq=data2[['CustomerID','Amount']].groupby('CustomerID').count().reset_index()\n",
        "freq.rename(columns={'Amount':'Frequency'},inplace=True)\n",
        "freq"
      ],
      "execution_count": null,
      "outputs": []
    },
    {
      "cell_type": "code",
      "metadata": {
        "id": "jfltsqsIYNK5"
      },
      "source": [
        "# we got final processed data\n",
        "processed_data=temp.merge(freq,how='outer')\n",
        "processed_data.isnull().value_counts()"
      ],
      "execution_count": null,
      "outputs": []
    },
    {
      "cell_type": "code",
      "metadata": {
        "colab": {
          "base_uri": "https://localhost:8080/",
          "height": 282
        },
        "id": "cXA6NL_fcggt",
        "outputId": "731f2466-b61c-45af-ffc3-9590716210dc"
      },
      "source": [
        "plt.subplot(2,1,1)\n",
        "plt.scatter(processed_data['recency'],processed_data['Amount'],c='r')\n",
        "plt.subplot(2,1,2)\n",
        "\n",
        "plt.scatter(processed_data['Frequency'],processed_data['Amount'],c='g')\n"
      ],
      "execution_count": null,
      "outputs": [
        {
          "output_type": "execute_result",
          "data": {
            "text/plain": [
              "<matplotlib.collections.PathCollection at 0x7fecb21ab710>"
            ]
          },
          "metadata": {
            "tags": []
          },
          "execution_count": 44
        },
        {
          "output_type": "display_data",
          "data": {
            "image/png": "[encoded data removed]",
            "text/plain": [
              "<Figure size 432x288 with 2 Axes>"
            ]
          },
          "metadata": {
            "tags": [],
            "needs_background": "light"
          }
        }
      ]
    },
    {
      "cell_type": "code",
      "metadata": {
        "id": "xigxYAFSfwde"
      },
      "source": [
        "# creating copy of processed data as a backup\n",
        "backup=processed_data.copy()"
      ],
      "execution_count": null,
      "outputs": []
    },
    {
      "cell_type": "code",
      "metadata": {
        "id": "smax0RU6e4EJ"
      },
      "source": [
        "from sklearn import preprocessing\n",
        "processed_data['Amount_proc']=processed_data['Amount'].apply(math.log)\n",
        "processed_data['recency_proc']=processed_data['recency'].apply(math.log)\n",
        "processed_data['frequency_proc']=processed_data['Frequency'].apply(math.log)\n"
      ],
      "execution_count": null,
      "outputs": []
    },
    {
      "cell_type": "code",
      "metadata": {
        "id": "UMw7gpXkihrM"
      },
      "source": [
        "feature_vec=['Amount_proc','recency_proc','frequency_proc']\n",
        "X=processed_data[feature_vec].values\n",
        "scalar=preprocessing.StandardScaler()\n",
        "X_scaled=scalar.fit_transform(X)"
      ],
      "execution_count": null,
      "outputs": []
    },
    {
      "cell_type": "code",
      "metadata": {
        "colab": {
          "base_uri": "https://localhost:8080/",
          "height": 407
        },
        "id": "jIjDRycmjJAF",
        "outputId": "8339d54b-c46d-49e2-82ca-cc5a2364ec15"
      },
      "source": [
        "processed_data"
      ],
      "execution_count": null,
      "outputs": [
        {
          "output_type": "execute_result",
          "data": {
            "text/html": [
              "<div>\n",
              "<style scoped>\n",
              "    .dataframe tbody tr th:only-of-type {\n",
              "        vertical-align: middle;\n",
              "    }\n",
              "\n",
              "    .dataframe tbody tr th {\n",
              "        vertical-align: top;\n",
              "    }\n",
              "\n",
              "    .dataframe thead th {\n",
              "        text-align: right;\n",
              "    }\n",
              "</style>\n",
              "<table border=\"1\" class=\"dataframe\">\n",
              "  <thead>\n",
              "    <tr style=\"text-align: right;\">\n",
              "      <th></th>\n",
              "      <th>CustomerID</th>\n",
              "      <th>Amount</th>\n",
              "      <th>recency</th>\n",
              "      <th>Frequency</th>\n",
              "      <th>Amount_proc</th>\n",
              "      <th>recency_proc</th>\n",
              "      <th>frequency_proc</th>\n",
              "    </tr>\n",
              "  </thead>\n",
              "  <tbody>\n",
              "    <tr>\n",
              "      <th>0</th>\n",
              "      <td>12346.0</td>\n",
              "      <td>77183.60</td>\n",
              "      <td>326.0</td>\n",
              "      <td>1</td>\n",
              "      <td>11.253942</td>\n",
              "      <td>5.786897</td>\n",
              "      <td>0.000000</td>\n",
              "    </tr>\n",
              "    <tr>\n",
              "      <th>1</th>\n",
              "      <td>12747.0</td>\n",
              "      <td>4196.01</td>\n",
              "      <td>2.0</td>\n",
              "      <td>103</td>\n",
              "      <td>8.341889</td>\n",
              "      <td>0.693147</td>\n",
              "      <td>4.634729</td>\n",
              "    </tr>\n",
              "    <tr>\n",
              "      <th>2</th>\n",
              "      <td>12748.0</td>\n",
              "      <td>33719.73</td>\n",
              "      <td>1.0</td>\n",
              "      <td>4595</td>\n",
              "      <td>10.425838</td>\n",
              "      <td>0.000000</td>\n",
              "      <td>8.432724</td>\n",
              "    </tr>\n",
              "    <tr>\n",
              "      <th>3</th>\n",
              "      <td>12749.0</td>\n",
              "      <td>4090.88</td>\n",
              "      <td>4.0</td>\n",
              "      <td>199</td>\n",
              "      <td>8.316515</td>\n",
              "      <td>1.386294</td>\n",
              "      <td>5.293305</td>\n",
              "    </tr>\n",
              "    <tr>\n",
              "      <th>4</th>\n",
              "      <td>12820.0</td>\n",
              "      <td>942.34</td>\n",
              "      <td>3.0</td>\n",
              "      <td>59</td>\n",
              "      <td>6.848366</td>\n",
              "      <td>1.098612</td>\n",
              "      <td>4.077537</td>\n",
              "    </tr>\n",
              "    <tr>\n",
              "      <th>...</th>\n",
              "      <td>...</td>\n",
              "      <td>...</td>\n",
              "      <td>...</td>\n",
              "      <td>...</td>\n",
              "      <td>...</td>\n",
              "      <td>...</td>\n",
              "      <td>...</td>\n",
              "    </tr>\n",
              "    <tr>\n",
              "      <th>3915</th>\n",
              "      <td>18280.0</td>\n",
              "      <td>180.60</td>\n",
              "      <td>278.0</td>\n",
              "      <td>10</td>\n",
              "      <td>5.196285</td>\n",
              "      <td>5.627621</td>\n",
              "      <td>2.302585</td>\n",
              "    </tr>\n",
              "    <tr>\n",
              "      <th>3916</th>\n",
              "      <td>18281.0</td>\n",
              "      <td>80.82</td>\n",
              "      <td>181.0</td>\n",
              "      <td>7</td>\n",
              "      <td>4.392224</td>\n",
              "      <td>5.198497</td>\n",
              "      <td>1.945910</td>\n",
              "    </tr>\n",
              "    <tr>\n",
              "      <th>3917</th>\n",
              "      <td>18282.0</td>\n",
              "      <td>178.05</td>\n",
              "      <td>8.0</td>\n",
              "      <td>12</td>\n",
              "      <td>5.182064</td>\n",
              "      <td>2.079442</td>\n",
              "      <td>2.484907</td>\n",
              "    </tr>\n",
              "    <tr>\n",
              "      <th>3918</th>\n",
              "      <td>18283.0</td>\n",
              "      <td>2094.88</td>\n",
              "      <td>4.0</td>\n",
              "      <td>756</td>\n",
              "      <td>7.647252</td>\n",
              "      <td>1.386294</td>\n",
              "      <td>6.628041</td>\n",
              "    </tr>\n",
              "    <tr>\n",
              "      <th>3919</th>\n",
              "      <td>18287.0</td>\n",
              "      <td>1837.28</td>\n",
              "      <td>43.0</td>\n",
              "      <td>70</td>\n",
              "      <td>7.516041</td>\n",
              "      <td>3.761200</td>\n",
              "      <td>4.248495</td>\n",
              "    </tr>\n",
              "  </tbody>\n",
              "</table>\n",
              "<p>3920 rows × 7 columns</p>\n",
              "</div>"
            ],
            "text/plain": [
              "      CustomerID    Amount  recency  ...  Amount_proc  recency_proc  frequency_proc\n",
              "0        12346.0  77183.60    326.0  ...    11.253942      5.786897        0.000000\n",
              "1        12747.0   4196.01      2.0  ...     8.341889      0.693147        4.634729\n",
              "2        12748.0  33719.73      1.0  ...    10.425838      0.000000        8.432724\n",
              "3        12749.0   4090.88      4.0  ...     8.316515      1.386294        5.293305\n",
              "4        12820.0    942.34      3.0  ...     6.848366      1.098612        4.077537\n",
              "...          ...       ...      ...  ...          ...           ...             ...\n",
              "3915     18280.0    180.60    278.0  ...     5.196285      5.627621        2.302585\n",
              "3916     18281.0     80.82    181.0  ...     4.392224      5.198497        1.945910\n",
              "3917     18282.0    178.05      8.0  ...     5.182064      2.079442        2.484907\n",
              "3918     18283.0   2094.88      4.0  ...     7.647252      1.386294        6.628041\n",
              "3919     18287.0   1837.28     43.0  ...     7.516041      3.761200        4.248495\n",
              "\n",
              "[3920 rows x 7 columns]"
            ]
          },
          "metadata": {
            "tags": []
          },
          "execution_count": 51
        }
      ]
    },
    {
      "cell_type": "code",
      "metadata": {
        "colab": {
          "base_uri": "https://localhost:8080/",
          "height": 282
        },
        "id": "NMo2hEL8W7IY",
        "outputId": "0186827f-0134-41ec-ff3e-72ad34ef2636"
      },
      "source": [
        "plt.scatter(processed_data.recency_proc,processed_data.Amount_proc,alpha=0.5)\n",
        "plt.scatter(processed_data.frequency_proc,processed_data.Amount_proc,alpha=0.5)"
      ],
      "execution_count": null,
      "outputs": [
        {
          "output_type": "execute_result",
          "data": {
            "text/plain": [
              "<matplotlib.collections.PathCollection at 0x7fecb96cb450>"
            ]
          },
          "metadata": {
            "tags": []
          },
          "execution_count": 52
        },
        {
          "output_type": "display_data",
          "data": {
            "image/png": "[encoded data removed]",
            "text/plain": [
              "<Figure size 432x288 with 1 Axes>"
            ]
          },
          "metadata": {
            "tags": [],
            "needs_background": "light"
          }
        }
      ]
    },
    {
      "cell_type": "code",
      "metadata": {
        "id": "1MbdjgjNjhML"
      },
      "source": [
        "from sklearn.cluster import KMeans"
      ],
      "execution_count": null,
      "outputs": []
    },
    {
      "cell_type": "code",
      "metadata": {
        "id": "RJ7Dixfdi9ws"
      },
      "source": [
        "X=X_scaled"
      ],
      "execution_count": null,
      "outputs": []
    },
    {
      "cell_type": "code",
      "metadata": {
        "colab": {
          "base_uri": "https://localhost:8080/",
          "height": 265
        },
        "id": "kUsEqWExhalN",
        "outputId": "9b141304-7891-4c97-9c2d-3f95591eff8b"
      },
      "source": [
        "import matplotlib.cm as cm\n",
        "\n",
        "clusterer=KMeans(n_clusters=3,random_state=10)\n",
        "cluster_labels=clusterer.fit_predict(X)\n",
        "feature1=2\n",
        "feature2=0\n",
        "cmap = cm.get_cmap(\"Spectral\")\n",
        "colors=cmap(cluster_labels.astype(float)/3)\n",
        "\n",
        "plt.scatter(X[:,feature1],X[:,feature2],marker='.',s=30,\n",
        "                lw=0,alpha=0.7,edgecolor='k',c=colors)\n",
        "centers=clusterer.cluster_centers_\n",
        "plt.scatter(centers[:,feature1],centers[:,feature2],marker=\"o\",\n",
        "                alpha=1,c='white',s=200,edgecolor='k')\n",
        "plt.show()\n"
      ],
      "execution_count": null,
      "outputs": [
        {
          "output_type": "display_data",
          "data": {
            "image/png": "[encoded data removed]",
            "text/plain": [
              "<Figure size 432x288 with 1 Axes>"
            ]
          },
          "metadata": {
            "tags": [],
            "needs_background": "light"
          }
        }
      ]
    },
    {
      "cell_type": "code",
      "metadata": {
        "colab": {
          "base_uri": "https://localhost:8080/",
          "height": 265
        },
        "id": "HQiZW-y3ho0F",
        "outputId": "2bf776c4-4fec-4d82-c083-edff9204a0b7"
      },
      "source": [
        "import matplotlib.cm as cm\n",
        "\n",
        "clusterer=KMeans(n_clusters=3,random_state=10)\n",
        "cluster_labels=clusterer.fit_predict(X)\n",
        "feature1=1\n",
        "feature2=0\n",
        "cmap = cm.get_cmap(\"Spectral\")\n",
        "colors=cmap(cluster_labels.astype(float)/3)\n",
        "\n",
        "plt.scatter(X[:,feature1],X[:,feature2],marker='.',s=30,\n",
        "                lw=0,alpha=0.7,edgecolor='k',c=colors)\n",
        "centers=clusterer.cluster_centers_\n",
        "plt.scatter(centers[:,feature1],centers[:,feature2],marker=\"o\",\n",
        "                alpha=1,c='white',s=200,edgecolor='k')\n",
        "plt.show()"
      ],
      "execution_count": null,
      "outputs": [
        {
          "output_type": "display_data",
          "data": {
            "image/png": "[encoded data removed]",
            "text/plain": [
              "<Figure size 432x288 with 1 Axes>"
            ]
          },
          "metadata": {
            "tags": [],
            "needs_background": "light"
          }
        }
      ]
    }
  ]
}